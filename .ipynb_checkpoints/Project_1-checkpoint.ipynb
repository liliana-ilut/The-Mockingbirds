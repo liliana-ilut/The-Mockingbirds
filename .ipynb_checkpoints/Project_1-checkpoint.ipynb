{
 "cells": [
  {
   "cell_type": "code",
   "execution_count": null,
   "metadata": {},
   "outputs": [],
   "source": [
    "#Import Dependencies \n",
    "\n",
    "import matplotlib\n",
    "import matplotlib.pyplot as plt\n",
    "import pandas as pd\n",
    "import numpy as np\n",
    "import requests\n",
    "import time\n",
    "from scipy.stats import linregress\n",
    "import datetime as dt  "
   ]
  },
  {
   "cell_type": "code",
   "execution_count": null,
   "metadata": {},
   "outputs": [],
   "source": [
    "csvpath = \"CSV_Census_Data_2016_Restaurant_Count_by_County.csv\"\n",
    "restaurant_df = pd.read_csv(csvpath)\n",
    "restaurant_df.head(10)"
   ]
  },
  {
   "cell_type": "code",
   "execution_count": null,
   "metadata": {},
   "outputs": [],
   "source": [
    "nan_value = float(\"NaN\")\n",
    "restaurant_df.replace(\"\", nan_value, inplace = False)\n",
    "#cities_df.dropna(subset = [\"Cloudiness\"], inplace = True)\n",
    "#cities_df.dropna(subset = [\"Country\"], inplace = True)\n",
    "restaurant_df"
   ]
  },
  {
   "cell_type": "code",
   "execution_count": null,
   "metadata": {},
   "outputs": [],
   "source": [
    "# Remove unecessary columns from the DataFrame and save the new DataFrame\n",
    "\n",
    "# Only keep: \"isbn\", \"original_publication_year\", \"original_title\", \"authors\",\n",
    "\n",
    "# \"ratings_1\", \"ratings_2\", \"ratings_3\", \"ratings_4\", \"ratings_5\"\n",
    "\n",
    "reduced_df = restaurant_df [[\"Unnamed: 1\", \"Unnamed: 3\", \"Unnamed: 4\",\"Unnamed: 5\", \"Unnamed: 6\", \"Unnamed: 7\", \"Unnamed: 8\", \"Unnamed: 9\"  ]]\n",
    "    \n",
    "#reduced_df = restaurant_df [[\"NaN\"]]\n",
    "    \n",
    "reduced_df.head(20)\n",
    "               "
   ]
  },
  {
   "cell_type": "code",
   "execution_count": null,
   "metadata": {},
   "outputs": [],
   "source": [
    "# Drop all rows with missing information\n",
    "reduced_df = reduced_df.dropna(how='any')\n",
    "reduced_df.head(20)"
   ]
  },
  {
   "cell_type": "code",
   "execution_count": null,
   "metadata": {},
   "outputs": [],
   "source": [
    "# Rename the headers to be more explanatory\n",
    "reduced_df = reduced_df.rename(columns={\n",
    "                                        \"Unnamed: 1\": \"State\",\n",
    "                                        \"Unnamed: 3\": \"County\",\n",
    "                                        \"Unnamed: 4\": \"NAICS Code\",\n",
    "                                        \"Unnamed: 5\": \"NAICS Description\",\n",
    "                                        \"Unnamed: 6\": \"Total CBP and NES Establishments\",\n",
    "                                        \"Unnamed: 7\": \"CBP Establishments Percentage\",\n",
    "                                        \"Unnamed: 8\": \"NES Establishments Percentage\",\n",
    "                                        \"Unnamed: 9\": \"CBP Establishments\",\n",
    "                        })\n",
    "\n",
    "\n",
    "reduced_df.head(20)"
   ]
  },
  {
   "cell_type": "code",
   "execution_count": null,
   "metadata": {},
   "outputs": [],
   "source": [
    "# Delete extraneous column\n",
    "#reduced_df.drop(reduced_df.index[0])\n",
    "#reduced_df\n",
    "\n",
    "#reduced_df.drop(reduced_df.index[-1])\n",
    "#reduced_df\n",
    "\n",
    "#del reduced_df['']\n",
    "#reduced_df.head()\n",
    "\n",
    "#reduced_df[reduced_df.name != 'Code']\n",
    "\n",
    "reduced_df = reduced_df.iloc[1:,]\n",
    "reduced_df"
   ]
  },
  {
   "cell_type": "code",
   "execution_count": null,
   "metadata": {},
   "outputs": [],
   "source": [
    "nan_value = float(\"NaN\")\n",
    "reduced_df.replace(\"N\", nan_value, inplace = True)\n",
    "reduced_df.dropna(subset = [\"Total CBP and NES Establishments\"], inplace = True)\n",
    "#reduced_df.dropna(subset = [\"Country\"], inplace = True)\n",
    "reduced_df\n",
    "\n",
    "#reduced_df = reduced_df.dropna(how='any')\n",
    "#reduced_df"
   ]
  },
  {
   "cell_type": "code",
   "execution_count": null,
   "metadata": {},
   "outputs": [],
   "source": [
    "#reduced_df.iloc[reduced_df[\"2012 NAICS Code\"] == \"7225\"]\n",
    "#reduced_df\n",
    "reduced_df.dtypes\n",
    "#data[data[\"Area\"] == \"Ireland\"]\n",
    "#df.loc[df['column_name'] == some_value]"
   ]
  },
  {
   "cell_type": "code",
   "execution_count": null,
   "metadata": {},
   "outputs": [],
   "source": [
    "#reduced_df['2012 NAICS Code'] = pd.to_numeric(reduced_df['2012 NAICS Code'])\n",
    "reduced_df['NAICS Code'] = reduced_df['NAICS Code'].astype(float)\n",
    "reduced_df.dtypes"
   ]
  },
  {
   "cell_type": "code",
   "execution_count": null,
   "metadata": {},
   "outputs": [],
   "source": []
  },
  {
   "cell_type": "code",
   "execution_count": null,
   "metadata": {},
   "outputs": [],
   "source": []
  },
  {
   "cell_type": "code",
   "execution_count": null,
   "metadata": {},
   "outputs": [],
   "source": []
  }
 ],
 "metadata": {
  "kernelspec": {
   "display_name": "Python 3",
   "language": "python",
   "name": "python3"
  },
  "language_info": {
   "codemirror_mode": {
    "name": "ipython",
    "version": 3
   },
   "file_extension": ".py",
   "mimetype": "text/x-python",
   "name": "python",
   "nbconvert_exporter": "python",
   "pygments_lexer": "ipython3",
   "version": "3.7.6"
  }
 },
 "nbformat": 4,
 "nbformat_minor": 4
}
