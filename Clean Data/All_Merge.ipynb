{
 "cells": [
  {
   "cell_type": "code",
   "execution_count": 22,
   "metadata": {},
   "outputs": [],
   "source": [
    "#Import Dependencies \n",
    "\n",
    "import matplotlib\n",
    "import matplotlib.pyplot as plt\n",
    "import pandas as pd\n",
    "import numpy as np\n",
    "import requests\n",
    "import time\n",
    "from scipy.stats import linregress\n",
    "import datetime as dt "
   ]
  },
  {
   "cell_type": "code",
   "execution_count": 23,
   "metadata": {},
   "outputs": [],
   "source": [
    "# Take in all of our data and read it into pandas\n",
    "#County_Population = \"../Archived_Data/Census Top 300 Counties by Population (Cleaned).csv\"\n",
    "Clean_Obesity_Data = \"./Resources/Clean_Obesity_2.csv\"\n",
    "County_Population = \"./Resources/Clean_Population_2.csv\"\n",
    "Clean_Restaurant_Data_by_County = \"./Resources/Clean_Restaurant_2.csv\"\n",
    "Clean_Income_County_Data = \"./Resources/Clean_Income_County_Data.csv\"\n",
    "\n",
    "Obesity_df = pd.read_csv(Clean_Obesity_Data)\n",
    "Population_df = pd.read_csv(County_Population)\n",
    "Restaurant_df = pd.read_csv(Clean_Restaurant_Data_by_County)\n",
    "Income_df = pd.read_csv(Clean_Income_County_Data)"
   ]
  },
  {
   "cell_type": "code",
   "execution_count": 12,
   "metadata": {},
   "outputs": [],
   "source": [
    "# #Population_df[\"Population\"] = pd.to_numeric(Population_df[\"Population\"])\n",
    "\n",
    "# Population_df\n",
    "\n",
    "# Population_df.Population=[pd.to_numeric(Population_df.Population, errors='coerce').isnull()]\n",
    "# Population_df"
   ]
  },
  {
   "cell_type": "code",
   "execution_count": 25,
   "metadata": {},
   "outputs": [
    {
     "data": {
      "text/html": [
       "<div>\n",
       "<style scoped>\n",
       "    .dataframe tbody tr th:only-of-type {\n",
       "        vertical-align: middle;\n",
       "    }\n",
       "\n",
       "    .dataframe tbody tr th {\n",
       "        vertical-align: top;\n",
       "    }\n",
       "\n",
       "    .dataframe thead th {\n",
       "        text-align: right;\n",
       "    }\n",
       "</style>\n",
       "<table border=\"1\" class=\"dataframe\">\n",
       "  <thead>\n",
       "    <tr style=\"text-align: right;\">\n",
       "      <th></th>\n",
       "      <th>Location</th>\n",
       "      <th>Obesity Percentage</th>\n",
       "      <th>Lower Limit</th>\n",
       "      <th>Upper Limit</th>\n",
       "    </tr>\n",
       "  </thead>\n",
       "  <tbody>\n",
       "    <tr>\n",
       "      <th>2398</th>\n",
       "      <td>Abbeville County,  South Carolina</td>\n",
       "      <td>37</td>\n",
       "      <td>30.7</td>\n",
       "      <td>43.2</td>\n",
       "    </tr>\n",
       "    <tr>\n",
       "      <th>1117</th>\n",
       "      <td>Acadia Parish,  Louisiana</td>\n",
       "      <td>38.4</td>\n",
       "      <td>31</td>\n",
       "      <td>46</td>\n",
       "    </tr>\n",
       "    <tr>\n",
       "      <th>2903</th>\n",
       "      <td>Accomack County,  Virginia</td>\n",
       "      <td>36.7</td>\n",
       "      <td>30.6</td>\n",
       "      <td>43.4</td>\n",
       "    </tr>\n",
       "    <tr>\n",
       "      <th>555</th>\n",
       "      <td>Ada County,  Idaho</td>\n",
       "      <td>25.3</td>\n",
       "      <td>23.3</td>\n",
       "      <td>27.3</td>\n",
       "    </tr>\n",
       "    <tr>\n",
       "      <th>793</th>\n",
       "      <td>Adair County,  Iowa</td>\n",
       "      <td>31.3</td>\n",
       "      <td>22.1</td>\n",
       "      <td>42.4</td>\n",
       "    </tr>\n",
       "    <tr>\n",
       "      <th>...</th>\n",
       "      <td>...</td>\n",
       "      <td>...</td>\n",
       "      <td>...</td>\n",
       "      <td>...</td>\n",
       "    </tr>\n",
       "    <tr>\n",
       "      <th>114</th>\n",
       "      <td>Yuma County,  Arizona</td>\n",
       "      <td>37.5</td>\n",
       "      <td>32.8</td>\n",
       "      <td>42.6</td>\n",
       "    </tr>\n",
       "    <tr>\n",
       "      <th>311</th>\n",
       "      <td>Yuma County,  Colorado</td>\n",
       "      <td>27.3</td>\n",
       "      <td>20.8</td>\n",
       "      <td>34.3</td>\n",
       "    </tr>\n",
       "    <tr>\n",
       "      <th>2858</th>\n",
       "      <td>Zapata County,  Texas</td>\n",
       "      <td>31.3</td>\n",
       "      <td>18.1</td>\n",
       "      <td>47.2</td>\n",
       "    </tr>\n",
       "    <tr>\n",
       "      <th>2859</th>\n",
       "      <td>Zavala County,  Texas</td>\n",
       "      <td>24.3</td>\n",
       "      <td>14.4</td>\n",
       "      <td>37.6</td>\n",
       "    </tr>\n",
       "    <tr>\n",
       "      <th>2510</th>\n",
       "      <td>Ziebach County,  South Dakota</td>\n",
       "      <td>51.3</td>\n",
       "      <td>45</td>\n",
       "      <td>58</td>\n",
       "    </tr>\n",
       "  </tbody>\n",
       "</table>\n",
       "<p>3226 rows × 4 columns</p>\n",
       "</div>"
      ],
      "text/plain": [
       "                               Location Obesity Percentage Lower Limit  \\\n",
       "2398  Abbeville County,  South Carolina                 37        30.7   \n",
       "1117          Acadia Parish,  Louisiana               38.4          31   \n",
       "2903         Accomack County,  Virginia               36.7        30.6   \n",
       "555                  Ada County,  Idaho               25.3        23.3   \n",
       "793                 Adair County,  Iowa               31.3        22.1   \n",
       "...                                 ...                ...         ...   \n",
       "114               Yuma County,  Arizona               37.5        32.8   \n",
       "311              Yuma County,  Colorado               27.3        20.8   \n",
       "2858              Zapata County,  Texas               31.3        18.1   \n",
       "2859              Zavala County,  Texas               24.3        14.4   \n",
       "2510      Ziebach County,  South Dakota               51.3          45   \n",
       "\n",
       "     Upper Limit  \n",
       "2398        43.2  \n",
       "1117          46  \n",
       "2903        43.4  \n",
       "555         27.3  \n",
       "793         42.4  \n",
       "...          ...  \n",
       "114         42.6  \n",
       "311         34.3  \n",
       "2858        47.2  \n",
       "2859        37.6  \n",
       "2510          58  \n",
       "\n",
       "[3226 rows x 4 columns]"
      ]
     },
     "execution_count": 25,
     "metadata": {},
     "output_type": "execute_result"
    }
   ],
   "source": [
    "Obesity_df = Obesity_df.sort_values(by=[\"Location\"])\n",
    "Obesity_df"
   ]
  },
  {
   "cell_type": "code",
   "execution_count": 26,
   "metadata": {},
   "outputs": [
    {
     "data": {
      "text/html": [
       "<div>\n",
       "<style scoped>\n",
       "    .dataframe tbody tr th:only-of-type {\n",
       "        vertical-align: middle;\n",
       "    }\n",
       "\n",
       "    .dataframe tbody tr th {\n",
       "        vertical-align: top;\n",
       "    }\n",
       "\n",
       "    .dataframe thead th {\n",
       "        text-align: right;\n",
       "    }\n",
       "</style>\n",
       "<table border=\"1\" class=\"dataframe\">\n",
       "  <thead>\n",
       "    <tr style=\"text-align: right;\">\n",
       "      <th></th>\n",
       "      <th>Location</th>\n",
       "      <th>Population</th>\n",
       "    </tr>\n",
       "  </thead>\n",
       "  <tbody>\n",
       "    <tr>\n",
       "      <th>148</th>\n",
       "      <td>Ada County,   Idaho</td>\n",
       "      <td>469966</td>\n",
       "    </tr>\n",
       "    <tr>\n",
       "      <th>138</th>\n",
       "      <td>Adams County,   Colorado</td>\n",
       "      <td>511868</td>\n",
       "    </tr>\n",
       "    <tr>\n",
       "      <th>255</th>\n",
       "      <td>Alachua County,   Florida</td>\n",
       "      <td>269956</td>\n",
       "    </tr>\n",
       "    <tr>\n",
       "      <th>19</th>\n",
       "      <td>Alameda County,   California</td>\n",
       "      <td>1666753</td>\n",
       "    </tr>\n",
       "    <tr>\n",
       "      <th>229</th>\n",
       "      <td>Albany County,   New York</td>\n",
       "      <td>307117</td>\n",
       "    </tr>\n",
       "    <tr>\n",
       "      <th>...</th>\n",
       "      <td>...</td>\n",
       "      <td>...</td>\n",
       "    </tr>\n",
       "    <tr>\n",
       "      <th>274</th>\n",
       "      <td>Yakima County,   Washington</td>\n",
       "      <td>251446</td>\n",
       "    </tr>\n",
       "    <tr>\n",
       "      <th>288</th>\n",
       "      <td>Yavapai County,   Arizona</td>\n",
       "      <td>231993</td>\n",
       "    </tr>\n",
       "    <tr>\n",
       "      <th>156</th>\n",
       "      <td>York County,   Pennsylvania</td>\n",
       "      <td>448273</td>\n",
       "    </tr>\n",
       "    <tr>\n",
       "      <th>251</th>\n",
       "      <td>York County,   South Carolina</td>\n",
       "      <td>274118</td>\n",
       "    </tr>\n",
       "    <tr>\n",
       "      <th>94</th>\n",
       "      <td>NaN</td>\n",
       "      <td>702455</td>\n",
       "    </tr>\n",
       "  </tbody>\n",
       "</table>\n",
       "<p>303 rows × 2 columns</p>\n",
       "</div>"
      ],
      "text/plain": [
       "                          Location  Population\n",
       "148            Ada County,   Idaho      469966\n",
       "138       Adams County,   Colorado      511868\n",
       "255      Alachua County,   Florida      269956\n",
       "19    Alameda County,   California     1666753\n",
       "229      Albany County,   New York      307117\n",
       "..                             ...         ...\n",
       "274    Yakima County,   Washington      251446\n",
       "288      Yavapai County,   Arizona      231993\n",
       "156    York County,   Pennsylvania      448273\n",
       "251  York County,   South Carolina      274118\n",
       "94                             NaN      702455\n",
       "\n",
       "[303 rows x 2 columns]"
      ]
     },
     "execution_count": 26,
     "metadata": {},
     "output_type": "execute_result"
    }
   ],
   "source": [
    "Population_df = Population_df.sort_values(by=[\"Location\"])\n",
    "Population_df"
   ]
  },
  {
   "cell_type": "code",
   "execution_count": 21,
   "metadata": {},
   "outputs": [],
   "source": [
    "# Merge_df = Population_df.merge(Obesity_df, on= \"Location\", how=\"left\")\n",
    "# Merge_df"
   ]
  },
  {
   "cell_type": "code",
   "execution_count": null,
   "metadata": {},
   "outputs": [],
   "source": [
    "finaldf = pd.concat([clean_income_data, clean_obesity_df], axis=1, join='inner').sort_index()"
   ]
  },
  {
   "cell_type": "code",
   "execution_count": 20,
   "metadata": {},
   "outputs": [],
   "source": [
    "Merge_df.to_csv(\"./Resources/TestMerge.csv\", encoding=\"utf-8\", index=False)"
   ]
  },
  {
   "cell_type": "code",
   "execution_count": null,
   "metadata": {},
   "outputs": [],
   "source": [
    "# Population_df[\"Population\"] = Population_df[\"Population\"].astype(float)\n",
    "# Population_df.head()\n",
    "# Population_df[\"Population\"].unique()\n",
    "# df = list(Population_df[\"Population\"])\n",
    "# df[0]+df[1]\n",
    "# Population_df.head()"
   ]
  },
  {
   "cell_type": "code",
   "execution_count": null,
   "metadata": {},
   "outputs": [],
   "source": [
    "# Obesity_df.head()\n",
    "# Obesity_df[\"Obesity Percentage\"].unique()\n",
    "# df = list(Obesity_df[\"Obesity Percentage\"])\n",
    "# df[0]+df[1]"
   ]
  },
  {
   "cell_type": "code",
   "execution_count": null,
   "metadata": {},
   "outputs": [],
   "source": [
    "#   Merge_df = pd.merge(Population_df, Obesity_df, how='inner', on=('County'))\n",
    "#   Merge_df= Merge_df.groupby [\"Population\"]\n",
    "\n",
    "\n",
    "#   pd.merge(left, right, how='inner', on=None, left_on=None, right_on=None,\n",
    "#         left_index=False, right_index=False, sort=True,\n",
    "#         suffixes=('_x', '_y'), copy=True, indicator=False,\n",
    "#         validate=None)\n",
    "#   >>> df1.merge(df2, left_on='lkey', right_on='rkey')\n",
    "#   Populatoin_df.drop(\"State_y\")\n",
    "\n",
    "\n",
    "# Merge_df = Obesity_df.merge(Population_df, on= \"Location\", how=\"left\")\n",
    "# Merge_df"
   ]
  },
  {
   "cell_type": "code",
   "execution_count": null,
   "metadata": {},
   "outputs": [],
   "source": [
    "# print (Merge_df[pd.to_numeric(Merge_df.Population_df, errors='coerce').isnull()])"
   ]
  },
  {
   "cell_type": "code",
   "execution_count": null,
   "metadata": {},
   "outputs": [],
   "source": [
    "# Merge_df.dropna(subset = [\"Population\"], inplace = True)\n",
    "# Merge_df"
   ]
  },
  {
   "cell_type": "code",
   "execution_count": null,
   "metadata": {},
   "outputs": [],
   "source": [
    "#A_Merge_Sample_df = Merge_Sample_df [[\"County\", \"State_x\", \"Population\", \"Obesity Percentage\", \"Lower Limit\", \"Upper Limit\"]]\n",
    "#A_Merge_Sample_df"
   ]
  },
  {
   "cell_type": "code",
   "execution_count": null,
   "metadata": {},
   "outputs": [],
   "source": [
    "#nan_value = float(\"NaN\")\n",
    "#Merge_df.replace(\"N\", nan_value, inplace = True)\n",
    "#Merge_df.dropna(subset = [\"Obesity Percentage\", \"Lower Limit\", \"Upper Limit\", \"State_y\", \"Population\"  ], inplace = True)\n",
    "#Merge_df.dropna(subset = [\"Obesity Percentage\", \"Lower Limit\", \"Upper Limit\", \"Population\"  ], inplace = True)\n",
    "#Merge_df"
   ]
  },
  {
   "cell_type": "code",
   "execution_count": null,
   "metadata": {},
   "outputs": [],
   "source": [
    "#Clean_Merge_df = Merge_df [[\"County\", \"State_x\", \"Population\", \"Obesity Percentage\", \"Lower Limit\", \"Upper Limit\", ]]\n",
    "#Clean_Merge_df.head(5)"
   ]
  },
  {
   "cell_type": "code",
   "execution_count": null,
   "metadata": {},
   "outputs": [],
   "source": []
  },
  {
   "cell_type": "code",
   "execution_count": null,
   "metadata": {},
   "outputs": [],
   "source": []
  }
 ],
 "metadata": {
  "kernelspec": {
   "display_name": "Python 3",
   "language": "python",
   "name": "python3"
  },
  "language_info": {
   "codemirror_mode": {
    "name": "ipython",
    "version": 3
   },
   "file_extension": ".py",
   "mimetype": "text/x-python",
   "name": "python",
   "nbconvert_exporter": "python",
   "pygments_lexer": "ipython3",
   "version": "3.7.6"
  }
 },
 "nbformat": 4,
 "nbformat_minor": 4
}
