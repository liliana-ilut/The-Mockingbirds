{
 "cells": [
  {
   "cell_type": "code",
   "execution_count": 2,
   "metadata": {},
   "outputs": [],
   "source": [
    "#Import Dependencies \n",
    "\n",
    "import matplotlib\n",
    "import matplotlib.pyplot as plt\n",
    "import pandas as pd\n",
    "import numpy as np\n",
    "import requests\n",
    "import time\n",
    "from scipy.stats import linregress\n",
    "import datetime as dt  "
   ]
  },
  {
   "cell_type": "code",
   "execution_count": 38,
   "metadata": {},
   "outputs": [
    {
     "data": {
      "text/html": [
       "<div>\n",
       "<style scoped>\n",
       "    .dataframe tbody tr th:only-of-type {\n",
       "        vertical-align: middle;\n",
       "    }\n",
       "\n",
       "    .dataframe tbody tr th {\n",
       "        vertical-align: top;\n",
       "    }\n",
       "\n",
       "    .dataframe thead th {\n",
       "        text-align: right;\n",
       "    }\n",
       "</style>\n",
       "<table border=\"1\" class=\"dataframe\">\n",
       "  <thead>\n",
       "    <tr style=\"text-align: right;\">\n",
       "      <th></th>\n",
       "      <th>County</th>\n",
       "      <th>Population</th>\n",
       "    </tr>\n",
       "  </thead>\n",
       "  <tbody>\n",
       "    <tr>\n",
       "      <th>0</th>\n",
       "      <td>Los Angeles County, California</td>\n",
       "      <td>10,105,518.00</td>\n",
       "    </tr>\n",
       "    <tr>\n",
       "      <th>1</th>\n",
       "      <td>Cook County, Illinois</td>\n",
       "      <td>5,180,493.00</td>\n",
       "    </tr>\n",
       "    <tr>\n",
       "      <th>2</th>\n",
       "      <td>Harris County, Texas</td>\n",
       "      <td>4,698,619.00</td>\n",
       "    </tr>\n",
       "    <tr>\n",
       "      <th>3</th>\n",
       "      <td>Maricopa County, Arizona</td>\n",
       "      <td>4,410,824.00</td>\n",
       "    </tr>\n",
       "    <tr>\n",
       "      <th>4</th>\n",
       "      <td>San Diego County, California</td>\n",
       "      <td>3,343,364.00</td>\n",
       "    </tr>\n",
       "  </tbody>\n",
       "</table>\n",
       "</div>"
      ],
      "text/plain": [
       "                           County     Population\n",
       "0  Los Angeles County, California  10,105,518.00\n",
       "1           Cook County, Illinois   5,180,493.00\n",
       "2            Harris County, Texas   4,698,619.00\n",
       "3        Maricopa County, Arizona   4,410,824.00\n",
       "4    San Diego County, California   3,343,364.00"
      ]
     },
     "execution_count": 38,
     "metadata": {},
     "output_type": "execute_result"
    }
   ],
   "source": [
    "csvpath = \"../Archived_Data/Census Top 300 Counties by Population (Cleaned).csv\"\n",
    "#csvpath = \"../Archived_Data/Clean_Population_County_Data.csv\"\n",
    "County_Pop_df = pd.read_csv(csvpath)\n",
    "County_Pop_df.head(5)"
   ]
  },
  {
   "cell_type": "code",
   "execution_count": 43,
   "metadata": {},
   "outputs": [],
   "source": [
    "Organized_County_Data_2_df.to_csv(\"./Resources/Clean_Population_2.csv\", encoding=\"utf-8\", index=False)"
   ]
  },
  {
   "cell_type": "code",
   "execution_count": 39,
   "metadata": {},
   "outputs": [],
   "source": [
    "# new = County_Pop_df[\"County\"].str.split(\",\", n = 1, expand = True)\n",
    "# County_Pop_df[\"County\"]= new[0] \n",
    "# County_Pop_df[\"State\"]= new[1] \n",
    "# #County_Pop_df.drop(columns =[\" \"], inplace = True) \n",
    "# County_Pop_df"
   ]
  },
  {
   "cell_type": "code",
   "execution_count": 40,
   "metadata": {},
   "outputs": [],
   "source": [
    "# Organized_County_Data_df = County_Pop_df [[\"County\", \"State\", \"Population\" ]]\n",
    "# Organized_County_Data_df"
   ]
  },
  {
   "cell_type": "code",
   "execution_count": 41,
   "metadata": {},
   "outputs": [],
   "source": [
    "# Organized_County_Data_df[\"Location\"] = Organized_County_Data_df[\"County\"] + \",\" + \" \" + Organized_County_Data_df[\"State\"]\n",
    "# Organized_County_Data_df"
   ]
  },
  {
   "cell_type": "code",
   "execution_count": 42,
   "metadata": {},
   "outputs": [],
   "source": [
    "# Organized_County_Data_2_df = Organized_County_Data_df [[\"Location\",\"Population\"]]\n",
    "# Organized_County_Data_2_df"
   ]
  },
  {
   "cell_type": "code",
   "execution_count": 44,
   "metadata": {},
   "outputs": [],
   "source": [
    "#County_Pop_df[['County','State']] = County_Pop_df.County.str.split(\" , \",expand=True,)\n",
    "#County_Pop_df"
   ]
  },
  {
   "cell_type": "code",
   "execution_count": 45,
   "metadata": {},
   "outputs": [],
   "source": [
    "#County_Pop_df[\"County\"]=County_Pop_df[\"County\"].str.split(\"\\r\\n\")\n",
    "#County_Pop_df.explode(\"County\").reset_index(drop=True)\n",
    "\n",
    "#County_Pop_df[\"County\"] = County_Pop_df.County.str.split()\n",
    "#County_Pop_df.explode(\"County\")\n",
    "\n",
    "#County_Pop_df[\"County\"] = County_Pop_df.County.str.split()\n",
    "#df.explode(\"County\")\n",
    "#County_Pop_df.dtypes"
   ]
  },
  {
   "cell_type": "code",
   "execution_count": 46,
   "metadata": {},
   "outputs": [],
   "source": [
    "#County_Pop_df[\"County\"] = County_Pop_df.County.str.split()\n",
    "#County_Pop_df.explode(\"County\")"
   ]
  },
  {
   "cell_type": "code",
   "execution_count": 47,
   "metadata": {},
   "outputs": [],
   "source": [
    "#County_Pop_df = pd.DataFrame({\n",
    "#    'County': ['Los Angeles County|California', 'Cook County|IL', 'Harris County|TX', 'Maricopa County|AZ', 'San Diego County, CA'] ,\n",
    "#    'Population': ['10,105,518.00', '5,180,493.00', '4,698,619.00', '4,410,824.00', '3,343,364.00'],\n",
    "   \n",
    "#})\n",
    "\n",
    "#County_Pop_df"
   ]
  },
  {
   "cell_type": "code",
   "execution_count": 48,
   "metadata": {},
   "outputs": [],
   "source": [
    "#County_Pop_2_df = pd.DataFrame(County_Pop_2_df.County.str.split('|').tolist(), index=df.Population).stack()\n",
    "#County_Pop_2_df"
   ]
  },
  {
   "cell_type": "code",
   "execution_count": 49,
   "metadata": {},
   "outputs": [],
   "source": [
    "#County_Pop_df[\"County\"] = County_Pop_df.County.str.split()\n",
    "#County_Pop_df.explode(\"County\")\n",
    "\n",
    "#County_Pop_df[['City', 'State']] = County_Pop_df.County.str.split(\" , \",expand=True,)\n",
    "#County_Pop_df"
   ]
  },
  {
   "cell_type": "code",
   "execution_count": null,
   "metadata": {},
   "outputs": [],
   "source": []
  },
  {
   "cell_type": "code",
   "execution_count": null,
   "metadata": {},
   "outputs": [],
   "source": []
  }
 ],
 "metadata": {
  "kernelspec": {
   "display_name": "Python 3",
   "language": "python",
   "name": "python3"
  },
  "language_info": {
   "codemirror_mode": {
    "name": "ipython",
    "version": 3
   },
   "file_extension": ".py",
   "mimetype": "text/x-python",
   "name": "python",
   "nbconvert_exporter": "python",
   "pygments_lexer": "ipython3",
   "version": "3.7.6"
  }
 },
 "nbformat": 4,
 "nbformat_minor": 4
}
